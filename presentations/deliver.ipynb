{
 "cells": [
  {
   "cell_type": "markdown",
   "metadata": {
    "heading_collapsed": true,
    "slideshow": {
     "slide_type": "slide"
    }
   },
   "source": [
    "# Python for Data Science Workshop\n",
    "\n",
    "# [github.com/aymanibrahim/pyds](https://github.com/aymanibrahim/pyds)"
   ]
  },
  {
   "cell_type": "markdown",
   "metadata": {
    "hidden": true,
    "slideshow": {
     "slide_type": "slide"
    }
   },
   "source": [
    "1. Visit:\n",
    "https://github.com/aymanibrahim/pyds\n",
    "2. Press \"launch binder\" button\n",
    "[![Binder](https://mybinder.org/badge_logo.svg)](https://mybinder.org/v2/gh/aymanibrahim/pyds/master)\n",
    "\n",
    "3. Wait until the server is launched, then navigate to:\n",
    ">presentations > deliver.ipynb\n",
    "4. Press [Alt + R] to start the RISE presentation."
   ]
  },
  {
   "cell_type": "markdown",
   "metadata": {
    "slideshow": {
     "slide_type": "slide"
    }
   },
   "source": [
    "# Python for Data Science Workshop\n",
    "\n",
    "### Ayman Ibrahim\n",
    "[GitHub](https://github.com/aymanibrahim) [LinkedIn](https://www.linkedin.com/in/aymanibrahim/) [Kaggle](https://www.kaggle.com/aymani) [Twitter](https://twitter.com/AymanIbrahim) [Facebook](https://www.facebook.com/ayman.ibrahim.awad)"
   ]
  },
  {
   "cell_type": "markdown",
   "metadata": {
    "slideshow": {
     "slide_type": "slide"
    }
   },
   "source": [
    "# Why\n",
    "> For people who struggle to start in data science with Python"
   ]
  },
  {
   "cell_type": "markdown",
   "metadata": {
    "slideshow": {
     "slide_type": "slide"
    }
   },
   "source": [
    "# Description\n",
    "This hands-on in-person workshop is based on [Python for Data Science Course by IBM Cognitive Class](https://cognitiveclass.ai/courses/python-for-data-science/)\n",
    "\n",
    "> Learn how to create your first Python scripts and perform basic hands-on data analysis using Jupyter-based environment."
   ]
  },
  {
   "cell_type": "markdown",
   "metadata": {
    "slideshow": {
     "slide_type": "slide"
    }
   },
   "source": [
    "# Outline"
   ]
  },
  {
   "cell_type": "markdown",
   "metadata": {
    "slideshow": {
     "slide_type": "slide"
    }
   },
   "source": [
    "# 01 Basics\n",
    "- [x] Hello World\n",
    "- [ ] Comments\n",
    "- [ ] Errors\n",
    "- [ ] Types\n",
    "- [ ] Expressions\n",
    "- [ ] Variables\n",
    "- [ ] Strings"
   ]
  },
  {
   "cell_type": "markdown",
   "metadata": {
    "slideshow": {
     "slide_type": "slide"
    }
   },
   "source": [
    "# 02 Data Structures\n",
    "- [ ] Tuples\n",
    "- [ ] Lists\n",
    "- [ ] Sets\n",
    "- [ ] Dictionaries"
   ]
  },
  {
   "cell_type": "markdown",
   "metadata": {
    "slideshow": {
     "slide_type": "slide"
    }
   },
   "source": [
    "# 03 Fundamentals\n",
    "- [ ] Conditions \n",
    "- [ ] Branching\n",
    "- [ ] Loops\n",
    "- [ ] Functions\n",
    "- [ ] Objects \n",
    "- [ ] Classes"
   ]
  },
  {
   "cell_type": "markdown",
   "metadata": {
    "slideshow": {
     "slide_type": "slide"
    }
   },
   "source": [
    "# 04 Working with Data\n",
    "- [ ] Reading files with open\n",
    "- [ ] Writing files with open\n",
    "- [ ] Loading data with pandas\n",
    "- [ ] Working with and Saving data with pandas"
   ]
  },
  {
   "cell_type": "markdown",
   "metadata": {
    "slideshow": {
     "slide_type": "slide"
    }
   },
   "source": [
    "# 05 Arrays\n",
    "- [ ] Creating and Manipulating 1D & 2D Arrays\n",
    "- [ ] Array Operations"
   ]
  },
  {
   "cell_type": "markdown",
   "metadata": {
    "slideshow": {
     "slide_type": "slide"
    }
   },
   "source": [
    "# Pre-workshop\n",
    "You will need a laptop that can access the internet"
   ]
  },
  {
   "cell_type": "markdown",
   "metadata": {
    "slideshow": {
     "slide_type": "slide"
    }
   },
   "source": [
    "# 1: Installation\n",
    "[Install Python using Miniconda](https://conda.io/projects/conda/en/latest/user-guide/install/index.html)\n",
    "\n",
    "OR [Install Python using Ananconda](https://www.anaconda.com/distribution/)"
   ]
  },
  {
   "cell_type": "markdown",
   "metadata": {
    "slideshow": {
     "slide_type": "slide"
    }
   },
   "source": [
    "# 2: Setup\n",
    "### 2.1: Download workshop code & materials\n",
    "Clone the repository\n",
    "```\n",
    "git clone git@github.com:aymanibrahim/pyds.git\n",
    "```\n",
    "OR [Download the repository as a .zip file](https://github.com/aymanibrahim/pyds/archive/master.zip)"
   ]
  },
  {
   "cell_type": "markdown",
   "metadata": {
    "slideshow": {
     "slide_type": "slide"
    }
   },
   "source": [
    "### 2.2: Change directory to pyds\n",
    "Change current directory to **pyds** directory\n",
    "```\n",
    "cd pyds\n",
    "```"
   ]
  },
  {
   "cell_type": "markdown",
   "metadata": {
    "slideshow": {
     "slide_type": "slide"
    }
   },
   "source": [
    "### 2.3: Install Python with required packages\n",
    "Install Python 3.7 with the required packages into an environment named _pyds_  as per [environment.yml](https://github.com/aymanibrahim/pyds/blob/master/environment.yml) YAML file.\n",
    "```\n",
    "conda env create -f environment.yml\n",
    "```\n",
    "When conda asks if you want to proceed, type \"y\" and press Enter.\n"
   ]
  },
  {
   "cell_type": "markdown",
   "metadata": {
    "slideshow": {
     "slide_type": "slide"
    }
   },
   "source": [
    "## 3: Activate environment\n",
    "Change the current default environment _base_ into _pyds_ environment.\n",
    "```\n",
    "conda activate pyds\n",
    "```"
   ]
  },
  {
   "cell_type": "markdown",
   "metadata": {
    "slideshow": {
     "slide_type": "slide"
    }
   },
   "source": [
    "## 4: Check installation\n",
    "Use [check_environment.py](https://github.com/aymanibrahim/pyds/blob/master/check_environment.py) script to make sure everything was installed correctly, open a terminal, and change its directory (cd) so that your working directory is the workshop directory _pyds_ you cloned or downloaded. Then enter the following:\n",
    "```\n",
    "python check_environment.py\n",
    "```\n",
    "If everything is OK, you will get the following message:\n",
    "> Your workshop environment is set up"
   ]
  },
  {
   "cell_type": "markdown",
   "metadata": {
    "slideshow": {
     "slide_type": "slide"
    }
   },
   "source": [
    "## 5: Start JupyterLab\n",
    "Start JupyterLab using:\n",
    "```\n",
    "jupyter lab\n",
    "```\n",
    "JupyterLab will open automatically in your browser.\n",
    "\n",
    "You may access JupyterLab by entering the notebook server’s URL into the browser.\n"
   ]
  },
  {
   "cell_type": "markdown",
   "metadata": {
    "slideshow": {
     "slide_type": "slide"
    }
   },
   "source": [
    "## 6: Stop JupyterLab\n",
    "Press **CTRL + C** in the terminal to stop JupyterLab."
   ]
  },
  {
   "cell_type": "markdown",
   "metadata": {
    "slideshow": {
     "slide_type": "slide"
    }
   },
   "source": [
    "## 7: Deactivate environment\n",
    "Change the current environment _pyds_ into the previous environment.\n",
    "```\n",
    "conda deactivate\n",
    "```"
   ]
  }
 ],
 "metadata": {
  "celltoolbar": "Slideshow",
  "kernelspec": {
   "display_name": "Python 3 (ipykernel)",
   "language": "python",
   "name": "python3"
  },
  "language_info": {
   "codemirror_mode": {
    "name": "ipython",
    "version": 3
   },
   "file_extension": ".py",
   "mimetype": "text/x-python",
   "name": "python",
   "nbconvert_exporter": "python",
   "pygments_lexer": "ipython3",
   "version": "3.8.13"
  }
 },
 "nbformat": 4,
 "nbformat_minor": 4
}
