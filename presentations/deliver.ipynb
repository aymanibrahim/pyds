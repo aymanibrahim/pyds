{
 "cells": [
  {
   "cell_type": "markdown",
   "metadata": {
    "slideshow": {
     "slide_type": "slide"
    }
   },
   "source": [
    "# Python for Data Science Workshop"
   ]
  },
  {
   "cell_type": "markdown",
   "metadata": {
    "slideshow": {
     "slide_type": "slide"
    }
   },
   "source": [
    "# Python for Data Science Workshop\n",
    "\n",
    "### Ayman Ibrahim, PMP\n",
    "[GitHub](https://github.com/aymanibrahim) [LinkedIn](https://www.linkedin.com/in/aymanibrahim/) [Kaggle](https://www.kaggle.com/aymani) [Twitter](https://twitter.com/AymanIbrahim) [Facebook](https://www.facebook.com/ayman.ibrahim.awad)"
   ]
  },
  {
   "cell_type": "markdown",
   "metadata": {
    "slideshow": {
     "slide_type": "slide"
    }
   },
   "source": [
    "# Why\n",
    "> For people who struggle to start in data science with Python"
   ]
  },
  {
   "cell_type": "markdown",
   "metadata": {
    "slideshow": {
     "slide_type": "slide"
    }
   },
   "source": [
    "# Description\n",
    "This hands-on in-person workshop is based on Python for Data Science Course by IBM Cognitive Class\n",
    "\n",
    "> Learn how to create your first Python scripts and perform basic hands-on data analysis using Jupyter-based environment."
   ]
  },
  {
   "cell_type": "markdown",
   "metadata": {
    "slideshow": {
     "slide_type": "slide"
    }
   },
   "source": [
    "# Outline"
   ]
  },
  {
   "cell_type": "markdown",
   "metadata": {
    "slideshow": {
     "slide_type": "slide"
    }
   },
   "source": [
    "# 01 Basics\n",
    "- [x] Hello World\n",
    "- [ ] Comments\n",
    "- [ ] Errors\n",
    "- [ ] Types\n",
    "- [ ] Expressions\n",
    "- [ ] Variables\n",
    "- [ ] Strings"
   ]
  },
  {
   "cell_type": "markdown",
   "metadata": {
    "slideshow": {
     "slide_type": "slide"
    }
   },
   "source": [
    "# 02 Data Structures\n",
    "- [ ] Tuples\n",
    "- [ ] Lists\n",
    "- [ ] Sets\n",
    "- [ ] Dictionaries"
   ]
  },
  {
   "cell_type": "markdown",
   "metadata": {
    "slideshow": {
     "slide_type": "slide"
    }
   },
   "source": [
    "# 03 Fundamentals\n",
    "- [ ] Conditions \n",
    "- [ ] Branching\n",
    "- [ ] Loops\n",
    "- [ ] Functions\n",
    "- [ ] Objects \n",
    "- [ ] Classes"
   ]
  },
  {
   "cell_type": "markdown",
   "metadata": {
    "slideshow": {
     "slide_type": "slide"
    }
   },
   "source": [
    "# 04 Working with Data\n",
    "- [ ] Reading files with open\n",
    "- [ ] Writing files with open\n",
    "- [ ] Loading data with pandas\n",
    "- [ ] Working with and Saving data with pandas"
   ]
  },
  {
   "cell_type": "markdown",
   "metadata": {
    "slideshow": {
     "slide_type": "slide"
    }
   },
   "source": [
    "# 05 Arrays\n",
    "- [ ] Creating and Manipulating 1D & 2D Arrays\n",
    "- [ ] Array Operations"
   ]
  },
  {
   "cell_type": "markdown",
   "metadata": {
    "slideshow": {
     "slide_type": "slide"
    }
   },
   "source": [
    "# Pre-workshop\n",
    "You will need a laptop that can access the internet"
   ]
  },
  {
   "cell_type": "markdown",
   "metadata": {
    "slideshow": {
     "slide_type": "slide"
    }
   },
   "source": [
    "# 1: Installation\n",
    "[Install Python 3.7 using Miniconda](https://conda.io/projects/conda/en/latest/user-guide/install/index.html)\n",
    "\n",
    "> OR [Install Ananconda for Python 3.7](https://www.anaconda.com/distribution/)"
   ]
  },
  {
   "cell_type": "markdown",
   "metadata": {
    "slideshow": {
     "slide_type": "slide"
    }
   },
   "source": [
    "# 2: Setup\n",
    "## 2.1: Download workshop materials\n",
    "Clone the repo\n",
    "\n",
    "```git clone https://github.com/aymanibrahim/pyds.git```\n",
    "\n",
    "> OR Download the repository as a .zip file"
   ]
  },
  {
   "cell_type": "markdown",
   "metadata": {
    "slideshow": {
     "slide_type": "slide"
    }
   },
   "source": [
    "## 2.2: Change directory to pyds\n",
    "```cd pyds```"
   ]
  },
  {
   "cell_type": "markdown",
   "metadata": {
    "slideshow": {
     "slide_type": "slide"
    }
   },
   "source": [
    "## 2.3: Create Python environment & install packages\n",
    "Install the required packages into _pyds_ Python environment using conda.\n",
    "\n",
    "```conda env create -f environment.yml```"
   ]
  },
  {
   "cell_type": "markdown",
   "metadata": {
    "slideshow": {
     "slide_type": "slide"
    }
   },
   "source": [
    "## 3: Test environment\n",
    "To make sure everything was installed correctly, open a terminal, and change its directory (cd) so that your working directory is the workshop directory pyds you downloaded. Then enter the following:\n",
    "\n",
    "```python check_environment.py```"
   ]
  },
  {
   "cell_type": "markdown",
   "metadata": {
    "slideshow": {
     "slide_type": "slide"
    }
   },
   "source": [
    "## 4: Attend\n",
    "we expect participants to attend \n",
    "[Python for Data Science Course by IBM Cognitive Class](https://cognitiveclass.ai/courses/python-for-data-science/)"
   ]
  }
 ],
 "metadata": {
  "celltoolbar": "Slideshow",
  "kernelspec": {
   "display_name": "Python 3",
   "language": "python",
   "name": "python3"
  },
  "language_info": {
   "codemirror_mode": {
    "name": "ipython",
    "version": 3
   },
   "file_extension": ".py",
   "mimetype": "text/x-python",
   "name": "python",
   "nbconvert_exporter": "python",
   "pygments_lexer": "ipython3",
   "version": "3.7.3"
  }
 },
 "nbformat": 4,
 "nbformat_minor": 4
}
