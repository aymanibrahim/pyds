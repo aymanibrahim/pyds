{
 "cells": [
  {
   "cell_type": "markdown",
   "metadata": {
    "slideshow": {
     "slide_type": "slide"
    }
   },
   "source": [
    "## How to Start in Data Science with Python\n",
    "# [github.com/aymanibrahim/pyds](https://github.com/aymanibrahim/pyds)"
   ]
  },
  {
   "cell_type": "markdown",
   "metadata": {
    "slideshow": {
     "slide_type": "slide"
    }
   },
   "source": [
    "1. Visit:\n",
    "https://github.com/aymanibrahim/pyds\n",
    "2. Press \"launch binder\" button\n",
    "[![Binder](https://mybinder.org/badge_logo.svg)](https://mybinder.org/v2/gh/aymanibrahim/pyds/master)\n",
    "\n",
    "3. Wait until the server is launched, then navigate to:\n",
    ">presentations > start_data_science.ipynb\n",
    "4. Press [Alt + R] to start the RISE presentation."
   ]
  },
  {
   "cell_type": "markdown",
   "metadata": {
    "heading_collapsed": true,
    "slideshow": {
     "slide_type": "slide"
    }
   },
   "source": [
    "## Overview\n",
    "\n",    
    "- What is Data Science \n",
    "- Data Science Learning Path\n",
    "- Python for Data Science \n",
    "- Data Analysis\n",
    "- Data Visualization\n",
    "- Q & A"
   ]
  },
  {
   "cell_type": "markdown",
   "metadata": {
    "slideshow": {
     "slide_type": "slide"
    }
   },
   "source": [
    "## How to Start in Data Science with Python\n",
    "\n",
    "### Ayman Ibrahim \n",
    "[GitHub](https://github.com/aymanibrahim) [LinkedIn](https://www.linkedin.com/in/aymanibrahim/) [Kaggle](https://www.kaggle.com/aymani) [Twitter](https://twitter.com/AymanIbrahim) [Facebook](https://www.facebook.com/ayman.ibrahim.awad)"
   ]
  },
  {
   "cell_type": "markdown",
   "metadata": {
    "slideshow": {
     "slide_type": "slide"
    }
   },
   "source": [
    "# What is Data Science?"
   ]
  },
  {
   "cell_type": "markdown",
   "metadata": {
    "slideshow": {
     "slide_type": "slide"
    }
   },
   "source": [
    "<p align=\"center\"> \n",
    "<img src=\"../images/Data_Science_VD.png\", width=400, height=300>\n",
    "</p>\n",
    "\n",
    "#### [The Data Science Venn Diagram](http://drewconway.com/zia/2013/3/26/the-data-science-venn-diagram)"
   ]
  },
  {
   "cell_type": "markdown",
   "metadata": {
    "slideshow": {
     "slide_type": "slide"
    }
   },
   "source": [
    "<p align=\"center\"> \n",
    "<img src=\"../images/Applied_Data_Science_with_Python.png\", width=200, height=150>\n",
    "</p>\n",
    "\n",
    "#### IBM Cognitive Class Learning Path \n",
    "#### [Applied Data Science with Python](https://cognitiveclass.ai/badges/applied-data-science-python)"
   ]
  },
  {
   "cell_type": "markdown",
   "metadata": {
    "slideshow": {
     "slide_type": "slide"
    }
   },
   "source": [
    "# Python for Data Science  \n",
    "> Learn how to create your first Python scripts and perform basic hands-on data analysis using Jupyter-based environment.\n",
    "\n",
    "[github.com/aymanibrahim/pyds](https://github.com/aymanibrahim/pyds)"
   ]
  },
  {
   "cell_type": "markdown",
   "metadata": {
    "slideshow": {
     "slide_type": "slide"
    }
   },
   "source": [
    "![](../images/pyds-1.png)"
   ]
  },
  {
   "cell_type": "markdown",
   "metadata": {
    "slideshow": {
     "slide_type": "slide"
    }
   },
   "source": [
    "![](../images/pyds-2.png)"
   ]
  },
  {
   "cell_type": "markdown",
   "metadata": {
    "slideshow": {
     "slide_type": "slide"
    }
   },
   "source": [
    "# [01 Basics](https://github.com/aymanibrahim/pyds/blob/master/notebooks/01_Basics.ipynb)\n",
    "Types            |  Variables | Strings\n",
    ":-------------------------:|:-------------------------:|:-------------------------:\n",
    "![](../images/01_Basics/02_types/02_get_type.png)  |  ![](../images/01_Basics/04_variables/07_convert_min_num_hr_num.png)|  ![](../images/01_Basics/05_strings/18_upper.png)"
   ]
  },
  {
   "cell_type": "markdown",
   "metadata": {
    "slideshow": {
     "slide_type": "slide"
    }
   },
   "source": [
    "- [x] Hello World\n",
    "- [ ] Comments\n",
    "- [ ] Errors\n",
    "- [ ] Types\n",
    "- [ ] Expressions\n",
    "- [ ] Variables\n",
    "- [ ] Strings"
   ]
  },
  {
   "cell_type": "markdown",
   "metadata": {
    "slideshow": {
     "slide_type": "slide"
    }
   },
   "source": [
    "# [02 Data Structures](https://github.com/aymanibrahim/pyds/blob/master/notebooks/02_Data_Structures.ipynb)\n",
    "Tuple                      |  Set                      | Dictionary\n",
    ":-------------------------:|:-------------------------:|:-------------------------:\n",
    "![](../images/02_Data_Structures/01_Tuples/01_create_tuple.png)  |  ![](../images/02_Data_Structures/01_Tuples/01_create_tuple.png)|  ![](../images/02_Data_Structures/04_Dictionaries/01_dictionary.png)"
   ]
  },
  {
   "cell_type": "markdown",
   "metadata": {
    "slideshow": {
     "slide_type": "slide"
    }
   },
   "source": [
    "- [ ] Tuples\n",
    "- [ ] Lists\n",
    "- [ ] Sets\n",
    "- [ ] Dictionaries"
   ]
  },
  {
   "cell_type": "markdown",
   "metadata": {
    "slideshow": {
     "slide_type": "slide"
    }
   },
   "source": [
    "# [03 Fundamentals](https://github.com/aymanibrahim/pyds/blob/master/notebooks/03_Fundamentals.ipynb)\n",
    "Condition                      |  Loop                      | Class\n",
    ":-------------------------:|:-------------------------:|:-------------------------:\n",
    "![](../images/03_Fundamentals/01_Conditions/05_equality_True.png)  |  ![](../images/03_Fundamentals/03_Loops/12_for_enumerate_2.png)|  ![](../images/03_Fundamentals/06_Classes/02_attributes.png)"
   ]
  },
  {
   "cell_type": "markdown",
   "metadata": {
    "slideshow": {
     "slide_type": "slide"
    }
   },
   "source": [
    "- [ ] Conditions \n",
    "- [ ] Branching\n",
    "- [ ] Loops\n",
    "- [ ] Functions\n",
    "- [ ] Objects \n",
    "- [ ] Classes"
   ]
  },
  {
   "cell_type": "markdown",
   "metadata": {
    "slideshow": {
     "slide_type": "slide"
    }
   },
   "source": [
    "# [04 Working with Data](https://github.com/aymanibrahim/pyds/blob/master/notebooks/04_Working_with_Data.ipynb)\n",
    "Read file                       |  pandas DataFrame                     | Specify columns \n",
    ":-------------------------:|:-------------------------:|:-------------------------:\n",
    "![](../images/04_Data/01_Read_files/11_loop_print_each_line.png)  |  ![](../images/04_Data/03_Load_pandas/03_rows_columns.png)|  ![](../images/04_Data/04_Save_pandas/05_select_specified_columns_2.png)"
   ]
  },
  {
   "cell_type": "markdown",
   "metadata": {
    "slideshow": {
     "slide_type": "slide"
    }
   },
   "source": [
    "- [ ] Reading files with open\n",
    "- [ ] Writing files with open\n",
    "- [ ] Loading data with Pandas\n",
    "- [ ] Working with and Saving data with Pandas"
   ]
  },
  {
   "cell_type": "markdown",
   "metadata": {
    "slideshow": {
     "slide_type": "slide"
    }
   },
   "source": [
    "# [05 Arrays](https://github.com/aymanibrahim/pyds/blob/master/notebooks/05_Arrays.ipynb)\n",
    "1D Array                      |  2D Array                      | Array slicing\n",
    ":-------------------------:|:-------------------------:|:-------------------------:\n",
    "![](../images/05_Arrays/01_Numpy_1D/01_create_1_d_array.png)  |  ![](../images/05_Arrays/02_Numpy_2D/04_size.png)|  ![](../images/05_Arrays/02_Numpy_2D/07_slicing.png)"
   ]
  },
  {
   "cell_type": "markdown",
   "metadata": {
    "slideshow": {
     "slide_type": "slide"
    }
   },
   "source": [
    "- [ ] Creating and Manipulating 1D & 2D Arrays\n",
    "- [ ] Array Operations"
   ]
  },
  {
   "cell_type": "markdown",
   "metadata": {
    "slideshow": {
     "slide_type": "slide"
    }
   },
   "source": [
    "# Data Analysis\n",
    ">Learn how to analyze data using multi-dimensional arrays in NumPy and manipulate DataFrames in pandas using Jupyter-based environment.\n",
    "\n",
    "[github.com/aymanibrahim/dapy](https://github.com/aymanibrahim/dapy)"
   ]
  },
  {
   "cell_type": "markdown",
   "metadata": {
    "slideshow": {
     "slide_type": "slide"
    }
   },
   "source": [
    "![](../images/start_ds/dapy-1.png)"
   ]
  },
  {
   "cell_type": "markdown",
   "metadata": {
    "slideshow": {
     "slide_type": "slide"
    }
   },
   "source": [
    "![](../images/start_ds/dapy-2.png)"
   ]
  },
  {
   "cell_type": "markdown",
   "metadata": {
    "slideshow": {
     "slide_type": "slide"
    }
   },
   "source": [
    "# 01 Intro\n",
    "Problem            |  Attributes | Types\n",
    ":-------------------------:|:-------------------------:|:-------------------------:\n",
    "![](../images/start_ds/01_Intro/01_problem/01_problem.png)  |  ![](../images/start_ds/01_Intro/02_data_analysis/05_attributes.png)|  ![](../images/start_ds/01_Intro/05_insights/01_types.png)"
   ]
  },
  {
   "cell_type": "markdown",
   "metadata": {
    "slideshow": {
     "slide_type": "slide"
    }
   },
   "source": [
    "- Understanding the Domain\n",
    "- Understanding the Dataset\n",
    "- Python package for data science\n",
    "- Importing and Exporting Data in Python\n",
    "- Basic Insights from Datasets"
   ]
  },
  {
   "cell_type": "markdown",
   "metadata": {
    "slideshow": {
     "slide_type": "slide"
    }
   },
   "source": [
    "# 02 Data Wrangling\n",
    "Distribution            |  Bins | Histogram\n",
    ":-------------------------:|:-------------------------:|:-------------------------:\n",
    "![](../figs/start_ds/02_Wrangling/horsepower_distribution.png)  |  ![](../figs/start_ds/02_Wrangling/horsepower_bins.png)|  ![](../figs/start_ds/02_Wrangling/horsepower_histogram.png)"
   ]
  },
  {
   "cell_type": "markdown",
   "metadata": {
    "slideshow": {
     "slide_type": "slide"
    }
   },
   "source": [
    "- Identify and Handle Missing Values\n",
    "- Data Formatting\n",
    "- Data Normalization \n",
    "- Binning\n",
    "- Indicator variables"
   ]
  },
  {
   "cell_type": "markdown",
   "metadata": {
    "slideshow": {
     "slide_type": "slide"
    }
   },
   "source": [
    "# 03 EDA\n",
    "Heatmap            |  Scatterplot | Boxplot\n",
    ":-------------------------:|:-------------------------:|:-------------------------:\n",
    "![](../figs/start_ds/03_EDA/05_pearson/correlation_heatmap.png)  |  ![](../figs/start_ds/03_EDA/05_pearson/positive_correlation_engine_size_price_scatterplot.png)|  ![](../figs/start_ds/03_EDA/01_descriptive/drive_wheels_price_box_plot.png)"
   ]
  },
  {
   "cell_type": "markdown",
   "metadata": {
    "slideshow": {
     "slide_type": "slide"
    }
   },
   "source": [
    "- Descriptive Statistics\n",
    "- Basics of Grouping\n",
    "- ANOVA\n",
    "- Correlation"
   ]
  },
  {
   "cell_type": "markdown",
   "metadata": {
    "slideshow": {
     "slide_type": "slide"
    }
   },
   "source": [
    "# 04 Model Development\n",
    "3rd Polynomial            |  Actual/Fitted | 11th Polynomial\n",
    ":-------------------------:|:-------------------------:|:-------------------------:\n",
    "![](../figs/start_ds/04_Model_Development/03_polyreg/polynomial_fit_price_highway-mpg_3_order.png)  |  ![](../figs/start_ds/04_Model_Development/02_visualize/actual_fitted_values_distplot.png)|  ![](../figs/start_ds/04_Model_Development/03_polyreg/polynomial_fit_price_highway-mpg_11_order.png)"
   ]
  },
  {
   "cell_type": "markdown",
   "metadata": {
    "slideshow": {
     "slide_type": "slide"
    }
   },
   "source": [
    "- Simple and Multiple Linear Regression\n",
    "- Model Evaluation Using Visualization\n",
    "- Polynomial Regression and Pipelines\n",
    "- R-squared and MSE for In-Sample Evaluation\n",
    "- Prediction and Decision Making"
   ]
  },
  {
   "cell_type": "markdown",
   "metadata": {
    "slideshow": {
     "slide_type": "slide"
    }
   },
   "source": [
    "# 05 Model Evaluation\n",
    "5th Polynomial            |  R^2 | 4 Features\n",
    ":-------------------------:|:-------------------------:|:-------------------------:\n",
    "![](../figs/start_ds/05_Model_Evaluation/02_select/degree5_poly_horse_power.png)  |  ![](../figs/start_ds/05_Model_Evaluation/02_select/r_squared_order_horsepower.png)|  ![](../figs/start_ds/05_Model_Evaluation/02_select/distribution_plot_of_predicted_value_using_test_data_vs_data_distribution_of_test_data_with_4_features__distplot.png)"
   ]
  },
  {
   "cell_type": "markdown",
   "metadata": {
    "slideshow": {
     "slide_type": "slide"
    }
   },
   "source": [
    "- Model Evaluation\n",
    "- Over-fitting, Under-fitting and Model Selection\n",
    "- Ridge Regression\n",
    "- Grid Search"
   ]
  },
  {
   "cell_type": "markdown",
   "metadata": {
    "slideshow": {
     "slide_type": "slide"
    }
   },
   "source": [
    "# Data Visualization\n",
    ">Learn how to represent data graphically to convey insights to clients, customers, and stakeholders\n",
    "\n",
    "[github.com/aymanibrahim/dvpy](https://github.com/aymanibrahim/dvpy)"
   ]
  },
  {
   "cell_type": "markdown",
   "metadata": {
    "slideshow": {
     "slide_type": "slide"
    }
   },
   "source": [
    "![](../images/start_ds/dvpy-1.png)"
   ]
  },
  {
   "cell_type": "markdown",
   "metadata": {
    "slideshow": {
     "slide_type": "slide"
    }
   },
   "source": [
    "![](../images/start_ds/dvpy-2.png)"
   ]
  },
  {
   "cell_type": "markdown",
   "metadata": {
    "slideshow": {
     "slide_type": "slide"
    }
   },
   "source": [
    "# [01 Intro](https://github.com/aymanibrahim/dvpy/blob/master/notebooks/01_Intro.ipynb)\n",
    "Line Plot            |  Trend | Top 5\n",
    ":-------------------------:|:-------------------------:|:-------------------------:\n",
    "![](../figs/start_ds/01_Intro/immigration_from_haiti.png)  |  ![](../figs/start_ds/01_Intro/immigration_from_china_india.png)|  ![](../figs/start_ds/01_Intro/immigration_trend_top5_countries.png)\n"
   ]
  },
  {
   "cell_type": "markdown",
   "metadata": {
    "slideshow": {
     "slide_type": "slide"
    }
   },
   "source": [
    "- Introduction to Data Visualization\n",
    "- Introduction to Matplotlib\n",
    "- Basic Plotting with Matplotlib\n",
    "- Dataset on Immigration to Canada\n",
    "- Line Plots"
   ]
  },
  {
   "cell_type": "markdown",
   "metadata": {
    "heading_collapsed": true,
    "slideshow": {
     "slide_type": "slide"
    }
   },
   "source": [
    "# [02 Basic Visualization](https://github.com/aymanibrahim/dvpy/blob/master/notebooks/02_Basic.ipynb)\n",
    "Bar Chart            |  Histogram | Area Plot\n",
    ":-------------------------:|:-------------------------:|:-------------------------:\n",
    "![](../figs/start_ds/02_Basic/top15_immigration_countries_barh.png)  |  ![](../figs/start_ds/02_Basic/immigration_from_195_countries_histogram.png)|  ![](../figs/start_ds/02_Basic/immigration_trend_top5_countries_modified_alpha.png)\n"
   ]
  },
  {
   "cell_type": "markdown",
   "metadata": {
    "hidden": true
   },
   "source": [
    "- Area Plots\n",
    "- Histograms\n",
    "- Bar Charts"
   ]
  },
  {
   "cell_type": "markdown",
   "metadata": {
    "heading_collapsed": true,
    "slideshow": {
     "slide_type": "slide"
    }
   },
   "source": [
    "# [03 Specialized Visualization](https://github.com/aymanibrahim/dvpy/blob/master/notebooks/03_Specialized.ipynb)\n",
    "Pie Chart            |  Box Plot | Bubble Plot\n",
    ":-------------------------:|:-------------------------:|:-------------------------:\n",
    "![](../figs/start_ds/03_Specialized/immigration_by_continent_2013_pie.png)  |  ![](../figs/start_ds/03_Specialized/immigration_china_india_boxplot.png)|  ![](../figs/start_ds/03_Specialized/immigration_from_brazil_argentina_bubble.png)\n"
   ]
  },
  {
   "cell_type": "markdown",
   "metadata": {
    "hidden": true
   },
   "source": [
    "- Pie Charts\n",
    "- Box Plots\n",
    "- Scatter Plots\n",
    "- Bubble Plots"
   ]
  },
  {
   "cell_type": "markdown",
   "metadata": {
    "heading_collapsed": true,
    "slideshow": {
     "slide_type": "slide"
    }
   },
   "source": [
    "# [04 Advanced Visualization](https://github.com/aymanibrahim/dvpy/blob/master/notebooks/04_Model_Development.ipynb)\n",
    "Waffle Chart            |  Word Cloud | Regression Plot\n",
    ":-------------------------:|:-------------------------:|:-------------------------:\n",
    "![](../figs/start_ds/04_Advanced/immigration_from_denmark_norway_sweden_waffle_chart.png)  |  ![](../figs/start_ds/04_Advanced/top_wordcloud.png)|  ![](../figs/start_ds/04_Advanced/immigration_best_fit_white_seaborn.png)"
   ]
  },
  {
   "cell_type": "markdown",
   "metadata": {
    "hidden": true
   },
   "source": [
    "- Waffle Charts\n",
    "- Word Clouds\n",
    "- Seaborn and Regression Plots"
   ]
  },
  {
   "cell_type": "markdown",
   "metadata": {
    "slideshow": {
     "slide_type": "slide"
    }
   },
   "source": [
    "# [05 Maps and Geospatial Data](https://github.com/aymanibrahim/dvpy/blob/master/notebooks/05_Maps.ipynb)\n",
    "Choropleth Map             | Clusters Map \n",
    ":-------------------------:|:-------------------------:|\n",
    "![](../figs/start_ds/05_Maps/immigration_choropleth_map.png)  |  ![](../figs/start_ds/05_Maps/incidents_sanfran_map_clusters.png)|  \n"
   ]
  },
  {
   "cell_type": "markdown",
   "metadata": {
    "slideshow": {
     "slide_type": "slide"
    }
   },
   "source": [
    "- Introduction to Folium\n",
    "- Maps with Markers\n",
    "- Choropleth Maps"
   ]
  },
  {
   "cell_type": "markdown",
   "metadata": {
    "slideshow": {
     "slide_type": "slide"
    }
   },
   "source": [
    "## Mathematics"
   ]
  },
  {
   "cell_type": "markdown",
   "metadata": {
    "slideshow": {
     "slide_type": "slide"
    }
   },
   "source": [
    "<p align=\"center\"> \n",
    "<img src=\"../images/linear_algebra_machine_learning.jpg\", width=400, height=300>\n",
    "</p>\n",
    "\n",
    "#### [Mathematics for Machine Learning: Linear Algebra - Coursera](https://www.coursera.org/learn/linear-algebra-machine-learning)"
   ]
  },
  {
   "cell_type": "markdown",
   "metadata": {
    "slideshow": {
     "slide_type": "slide"
    }
   },
   "source": [
    "<p align=\"center\"> \n",
    "<img src=\"../images/multivariate_calculus_machine_learning.jpg\", width=400, height=300>\n",
    "</p>\n",
    "\n",
    "#### [Mathematics for Machine Learning: Multivariate Calculus - Coursera](https://www.coursera.org/learn/multivariate-calculus-machine-learning)"
   ]
  },
  {
   "cell_type": "markdown",
   "metadata": {
    "slideshow": {
     "slide_type": "slide"
    }
   },
   "source": [
    "## Statistics"
   ]
  },
  {
   "cell_type": "markdown",
   "metadata": {
    "slideshow": {
     "slide_type": "slide"
    }
   },
   "source": [
    "<p align=\"center\"> \n",
    "<img src=\"../images/intro_to_statistics.jpeg\", width=400, height=300>\n",
    "</p>\n",
    "\n",
    "#### [Intro to Statistics - Udacity](https://www.udacity.com/course/intro-to-statistics--st101)"
   ]
  },
  {
   "cell_type": "markdown",
   "metadata": {
    "slideshow": {
     "slide_type": "slide"
    }
   },
   "source": [
    "## Deep Learing"
   ]
  },
  {
   "cell_type": "markdown",
   "metadata": {
    "slideshow": {
     "slide_type": "slide"
    }
   },
   "source": [
    "<p align=\"center\"> \n",
    "<img src=\"../images/ml-tf-gcp.jpg\", width=400, height=300>\n",
    "</p>\n",
    "\n",
    "#### [Machine Learning with TensorFlow on Google Cloud Platform Specialization - Coursera](https://www.coursera.org/specializations/machine-learning-tensorflow-gcp)"
   ]
  },
  {
   "cell_type": "markdown",
   "metadata": {
    "slideshow": {
     "slide_type": "slide"
    }
   },
   "source": [
    "<p align=\"center\"> \n",
    "<img src=\"../images/Practical Deep Learning for Coders.png\", width=400, height=300>\n",
    "</p>\n",
    "\n",
    "#### [Practical Deep Learning for Coders - fast.ai](https://course.fast.ai)\n",
    " "
   ]
  },
  {
   "cell_type": "markdown",
   "metadata": {},
   "source": [
    "## Data"
   ]
  },
  {
   "cell_type": "markdown",
   "metadata": {
    "slideshow": {
     "slide_type": "slide"
    }
   },
   "source": [
    "<p align=\"center\"> \n",
    "<img src=\"../images/open_data.jpeg\", width=400, height=300>\n",
    "</p>\n",
    "\n",
    "#### [Open Data Sources](https://www.freecodecamp.org/news/https-medium-freecodecamp-org-best-free-open-data-sources-anyone-can-use-a65b514b0f2d)\n",
    " "
   ]
  },
  {
   "cell_type": "markdown",
   "metadata": {
    "slideshow": {
     "slide_type": "slide"
    }
   },
   "source": [
    "<p align=\"center\"> \n",
    "<img src=\"../images/Kaggle.png\", width=400, height=300>\n",
    "</p>\n",
    "\n",
    "#### [kaggle](https://www.kaggle.com)\n",
    " "
   ]
  },
  {
   "cell_type": "markdown",
   "metadata": {
    "slideshow": {
     "slide_type": "slide"
    }
   },
   "source": [
    "## Q & A"
   ]
  }
 ],
 "metadata": {
  "celltoolbar": "Slideshow",
  "kernelspec": {
   "display_name": "Python 3",
   "language": "python",
   "name": "python3"
  },
  "language_info": {
   "codemirror_mode": {
    "name": "ipython",
    "version": 3
   },
   "file_extension": ".py",
   "mimetype": "text/x-python",
   "name": "python",
   "nbconvert_exporter": "python",
   "pygments_lexer": "ipython3",
   "version": "3.7.3"
  }
 },
 "nbformat": 4,
 "nbformat_minor": 4
}
